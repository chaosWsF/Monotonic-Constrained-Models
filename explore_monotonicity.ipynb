{
 "cells": [
  {
   "cell_type": "code",
   "execution_count": 1,
   "metadata": {
    "ExecuteTime": {
     "end_time": "2021-09-17T12:09:13.484430Z",
     "start_time": "2021-09-17T12:09:12.725059Z"
    }
   },
   "outputs": [],
   "source": [
    "import numpy as np\n",
    "import pandas as pd\n",
    "\n",
    "import matplotlib.pyplot as plt\n",
    "import seaborn as sns"
   ]
  },
  {
   "cell_type": "code",
   "execution_count": 2,
   "metadata": {
    "ExecuteTime": {
     "end_time": "2021-09-17T12:09:14.888863Z",
     "start_time": "2021-09-17T12:09:14.874860Z"
    }
   },
   "outputs": [],
   "source": [
    "data_root = './Data/'"
   ]
  },
  {
   "cell_type": "markdown",
   "metadata": {},
   "source": [
    "## Explainable Boosting Classifier\n",
    "\n",
    "+ https://github.com/interpretml/interpret"
   ]
  },
  {
   "cell_type": "code",
   "execution_count": 3,
   "metadata": {
    "ExecuteTime": {
     "end_time": "2021-09-17T12:11:46.879437Z",
     "start_time": "2021-09-17T12:11:46.352427Z"
    }
   },
   "outputs": [],
   "source": [
    "from interpret.glassbox import ExplainableBoostingClassifier, ExplainableBoostingRegressor\n",
    "from interpret import show"
   ]
  },
  {
   "cell_type": "markdown",
   "metadata": {},
   "source": [
    "### Heart Disease"
   ]
  },
  {
   "cell_type": "code",
   "execution_count": 4,
   "metadata": {
    "ExecuteTime": {
     "end_time": "2021-09-17T12:11:50.402874Z",
     "start_time": "2021-09-17T12:11:50.385859Z"
    }
   },
   "outputs": [],
   "source": [
    "df = pd.read_csv(f'{data_root}heart.csv')\n",
    "\n",
    "train_cols = df.columns[0:-1]\n",
    "label = df.columns[-1]\n",
    "X_df = df[train_cols]\n",
    "y_df = df[label]"
   ]
  },
  {
   "cell_type": "code",
   "execution_count": 5,
   "metadata": {
    "ExecuteTime": {
     "end_time": "2021-09-17T12:11:54.629275Z",
     "start_time": "2021-09-17T12:11:52.682844Z"
    }
   },
   "outputs": [
    {
     "data": {
      "text/plain": [
       "ExplainableBoostingClassifier(feature_names=['age', 'sex', 'cp', 'trestbps',\n",
       "                                             'chol', 'fbs', 'restecg',\n",
       "                                             'thalach', 'exang', 'oldpeak',\n",
       "                                             'slope', 'ca', 'thal'],\n",
       "                              feature_types=['continuous', 'categorical',\n",
       "                                             'continuous', 'continuous',\n",
       "                                             'continuous', 'categorical',\n",
       "                                             'continuous', 'continuous',\n",
       "                                             'categorical', 'continuous',\n",
       "                                             'continuous', 'continuous',\n",
       "                                             'categorical'],\n",
       "                              interactions=0, n_jobs=-1)"
      ]
     },
     "execution_count": 5,
     "metadata": {},
     "output_type": "execute_result"
    }
   ],
   "source": [
    "ebm = ExplainableBoostingClassifier(n_jobs=-1, interactions=0)\n",
    "ebm.fit(X_df, y_df)"
   ]
  },
  {
   "cell_type": "code",
   "execution_count": 6,
   "metadata": {
    "ExecuteTime": {
     "end_time": "2021-09-17T12:12:00.463042Z",
     "start_time": "2021-09-17T12:11:57.859034Z"
    }
   },
   "outputs": [
    {
     "data": {
      "text/html": [
       "<!-- http://127.0.0.1:7001/2162433095760/ -->\n",
       "<iframe src=\"http://127.0.0.1:7001/2162433095760/\" width=100% height=800 frameBorder=\"0\"></iframe>"
      ]
     },
     "metadata": {},
     "output_type": "display_data"
    }
   ],
   "source": [
    "ebm_global = ebm.explain_global()\n",
    "show(ebm_global)"
   ]
  },
  {
   "cell_type": "markdown",
   "metadata": {},
   "source": [
    "As is depicted in the above plots, we can get the following table.\n",
    "\n",
    "| Variable | Montonicity |\n",
    "| --- | --- |\n",
    "| age | increasing |\n",
    "| thalach | decreasing |\n",
    "| oldpeak | increasing |\n",
    "\n",
    "### Census Income"
   ]
  },
  {
   "cell_type": "code",
   "execution_count": 7,
   "metadata": {
    "ExecuteTime": {
     "end_time": "2021-09-17T12:12:53.565304Z",
     "start_time": "2021-09-17T12:12:53.507144Z"
    }
   },
   "outputs": [],
   "source": [
    "df = pd.read_csv(f'{data_root}adult.data', header=None)\n",
    "df.columns = [\n",
    "    \"Age\", \"WorkClass\", \"fnlwgt\", \"Education\", \"EducationNum\",\n",
    "    \"MaritalStatus\", \"Occupation\", \"Relationship\", \"Race\", \"Gender\",\n",
    "    \"CapitalGain\", \"CapitalLoss\", \"HoursPerWeek\", \"NativeCountry\", \"Income\"\n",
    "]\n",
    "train_cols = df.columns[0:-1]\n",
    "label = df.columns[-1]\n",
    "X_df = df[train_cols]\n",
    "y_df = df[label]"
   ]
  },
  {
   "cell_type": "code",
   "execution_count": 8,
   "metadata": {
    "ExecuteTime": {
     "end_time": "2021-09-17T12:13:04.775417Z",
     "start_time": "2021-09-17T12:12:55.033849Z"
    }
   },
   "outputs": [
    {
     "data": {
      "text/plain": [
       "ExplainableBoostingClassifier(feature_names=['Age', 'WorkClass', 'fnlwgt',\n",
       "                                             'Education', 'EducationNum',\n",
       "                                             'MaritalStatus', 'Occupation',\n",
       "                                             'Relationship', 'Race', 'Gender',\n",
       "                                             'CapitalGain', 'CapitalLoss',\n",
       "                                             'HoursPerWeek', 'NativeCountry'],\n",
       "                              feature_types=['continuous', 'categorical',\n",
       "                                             'continuous', 'categorical',\n",
       "                                             'continuous', 'categorical',\n",
       "                                             'categorical', 'categorical',\n",
       "                                             'categorical', 'categorical',\n",
       "                                             'continuous', 'continuous',\n",
       "                                             'continuous', 'categorical'],\n",
       "                              interactions=0, n_jobs=-1)"
      ]
     },
     "execution_count": 8,
     "metadata": {},
     "output_type": "execute_result"
    }
   ],
   "source": [
    "ebm = ExplainableBoostingClassifier(n_jobs=-1, interactions=0)\n",
    "ebm.fit(X_df, y_df)"
   ]
  },
  {
   "cell_type": "code",
   "execution_count": 9,
   "metadata": {
    "ExecuteTime": {
     "end_time": "2021-09-17T12:13:11.036832Z",
     "start_time": "2021-09-17T12:13:11.018828Z"
    }
   },
   "outputs": [
    {
     "data": {
      "text/html": [
       "<!-- http://127.0.0.1:7001/2162466672352/ -->\n",
       "<iframe src=\"http://127.0.0.1:7001/2162466672352/\" width=100% height=800 frameBorder=\"0\"></iframe>"
      ]
     },
     "metadata": {},
     "output_type": "display_data"
    }
   ],
   "source": [
    "ebm_global = ebm.explain_global()\n",
    "show(ebm_global)"
   ]
  },
  {
   "cell_type": "markdown",
   "metadata": {},
   "source": [
    "As is depicted in the above plots, we can get the following table.\n",
    "\n",
    "| Variable | Montonicity |\n",
    "| --- | --- |\n",
    "| EducantionNum | increasing |\n",
    "| CapitalGain | increasing |\n",
    "\n",
    "### Edmonton House Price"
   ]
  },
  {
   "cell_type": "code",
   "execution_count": 10,
   "metadata": {
    "ExecuteTime": {
     "end_time": "2021-09-17T12:13:37.562345Z",
     "start_time": "2021-09-17T12:13:37.243018Z"
    }
   },
   "outputs": [],
   "source": [
    "df = pd.read_csv(f'{data_root}housing_train.csv')\n",
    "df.dropna(inplace=True)\n",
    "train_cols = [\n",
    "    'Latitude', 'Longitude', 'Neighbourhood',\n",
    "    'Actual Year Built', 'Garage', 'Zoning', 'Lot Size'\n",
    "]\n",
    "label = 'Assessed_value_log'\n",
    "X_df = df[train_cols]\n",
    "y_df = df[label]"
   ]
  },
  {
   "cell_type": "code",
   "execution_count": 11,
   "metadata": {
    "ExecuteTime": {
     "end_time": "2021-09-17T12:14:07.668376Z",
     "start_time": "2021-09-17T12:13:38.889844Z"
    }
   },
   "outputs": [
    {
     "data": {
      "text/plain": [
       "ExplainableBoostingRegressor(feature_names=['Latitude', 'Longitude',\n",
       "                                            'Neighbourhood',\n",
       "                                            'Actual Year Built', 'Garage',\n",
       "                                            'Zoning', 'Lot Size'],\n",
       "                             feature_types=['continuous', 'continuous',\n",
       "                                            'continuous', 'continuous',\n",
       "                                            'categorical', 'continuous',\n",
       "                                            'continuous'],\n",
       "                             interactions=0, n_jobs=-1)"
      ]
     },
     "execution_count": 11,
     "metadata": {},
     "output_type": "execute_result"
    }
   ],
   "source": [
    "ebm = ExplainableBoostingRegressor(n_jobs=-1, interactions=0)\n",
    "ebm.fit(X_df, y_df)"
   ]
  },
  {
   "cell_type": "code",
   "execution_count": 12,
   "metadata": {
    "ExecuteTime": {
     "end_time": "2021-09-17T12:14:17.789834Z",
     "start_time": "2021-09-17T12:14:17.770838Z"
    }
   },
   "outputs": [
    {
     "data": {
      "text/html": [
       "<!-- http://127.0.0.1:7001/2162341143792/ -->\n",
       "<iframe src=\"http://127.0.0.1:7001/2162341143792/\" width=100% height=800 frameBorder=\"0\"></iframe>"
      ]
     },
     "metadata": {},
     "output_type": "display_data"
    }
   ],
   "source": [
    "ebm_global = ebm.explain_global()\n",
    "show(ebm_global)"
   ]
  },
  {
   "cell_type": "markdown",
   "metadata": {},
   "source": [
    "As is depicted in the above plots, we can get the following table.\n",
    "\n",
    "| Variable | Montonicity |\n",
    "| --- | --- |\n",
    "| Latitude | decreasing |\n",
    "| Longitude | decreasing |\n",
    "| Actual Year Built | increasing |\n",
    "| Lot Size | increasing |\n",
    "\n",
    "## Spearman correlation"
   ]
  },
  {
   "cell_type": "code",
   "execution_count": 13,
   "metadata": {
    "ExecuteTime": {
     "end_time": "2021-09-17T12:15:00.556176Z",
     "start_time": "2021-09-17T12:15:00.554811Z"
    }
   },
   "outputs": [],
   "source": [
    "from scipy.stats import spearmanr"
   ]
  },
  {
   "cell_type": "code",
   "execution_count": 14,
   "metadata": {
    "ExecuteTime": {
     "end_time": "2021-09-17T12:15:03.913826Z",
     "start_time": "2021-09-17T12:15:03.898824Z"
    }
   },
   "outputs": [
    {
     "data": {
      "text/plain": [
       "{('heart', 'Spearman_rank'): None,\n",
       " ('heart', 'Mann_Kendall'): None,\n",
       " ('adult', 'Spearman_rank'): None,\n",
       " ('adult', 'Mann_Kendall'): None,\n",
       " ('housing', 'Spearman_rank'): None,\n",
       " ('housing', 'Mann_Kendall'): None}"
      ]
     },
     "execution_count": 14,
     "metadata": {},
     "output_type": "execute_result"
    }
   ],
   "source": [
    "import itertools\n",
    "\n",
    "t1 = ('heart', 'adult', 'housing')\n",
    "t2 = ('Spearman_rank', 'Mann_Kendall')\n",
    "\n",
    "output_tables = dict()\n",
    "for pair in itertools.product(t1, t2):\n",
    "    output_tables[pair] = None\n",
    "\n",
    "output_tables"
   ]
  },
  {
   "cell_type": "markdown",
   "metadata": {},
   "source": [
    "### Heart Disease"
   ]
  },
  {
   "cell_type": "code",
   "execution_count": 15,
   "metadata": {
    "ExecuteTime": {
     "end_time": "2021-09-17T12:15:24.457799Z",
     "start_time": "2021-09-17T12:15:24.442797Z"
    }
   },
   "outputs": [
    {
     "data": {
      "text/html": [
       "<div>\n",
       "<style scoped>\n",
       "    .dataframe tbody tr th:only-of-type {\n",
       "        vertical-align: middle;\n",
       "    }\n",
       "\n",
       "    .dataframe tbody tr th {\n",
       "        vertical-align: top;\n",
       "    }\n",
       "\n",
       "    .dataframe thead th {\n",
       "        text-align: right;\n",
       "    }\n",
       "</style>\n",
       "<table border=\"1\" class=\"dataframe\">\n",
       "  <thead>\n",
       "    <tr style=\"text-align: right;\">\n",
       "      <th></th>\n",
       "      <th>age</th>\n",
       "      <th>sex</th>\n",
       "      <th>cp</th>\n",
       "      <th>trestbps</th>\n",
       "      <th>chol</th>\n",
       "      <th>fbs</th>\n",
       "      <th>restecg</th>\n",
       "      <th>thalach</th>\n",
       "      <th>exang</th>\n",
       "      <th>oldpeak</th>\n",
       "      <th>slope</th>\n",
       "      <th>ca</th>\n",
       "      <th>thal</th>\n",
       "      <th>target</th>\n",
       "    </tr>\n",
       "  </thead>\n",
       "  <tbody>\n",
       "    <tr>\n",
       "      <th>0</th>\n",
       "      <td>63</td>\n",
       "      <td>1</td>\n",
       "      <td>1</td>\n",
       "      <td>145</td>\n",
       "      <td>233</td>\n",
       "      <td>1</td>\n",
       "      <td>2</td>\n",
       "      <td>150</td>\n",
       "      <td>0</td>\n",
       "      <td>2.3</td>\n",
       "      <td>3</td>\n",
       "      <td>0</td>\n",
       "      <td>fixed</td>\n",
       "      <td>0</td>\n",
       "    </tr>\n",
       "    <tr>\n",
       "      <th>1</th>\n",
       "      <td>67</td>\n",
       "      <td>1</td>\n",
       "      <td>4</td>\n",
       "      <td>160</td>\n",
       "      <td>286</td>\n",
       "      <td>0</td>\n",
       "      <td>2</td>\n",
       "      <td>108</td>\n",
       "      <td>1</td>\n",
       "      <td>1.5</td>\n",
       "      <td>2</td>\n",
       "      <td>3</td>\n",
       "      <td>normal</td>\n",
       "      <td>1</td>\n",
       "    </tr>\n",
       "    <tr>\n",
       "      <th>2</th>\n",
       "      <td>67</td>\n",
       "      <td>1</td>\n",
       "      <td>4</td>\n",
       "      <td>120</td>\n",
       "      <td>229</td>\n",
       "      <td>0</td>\n",
       "      <td>2</td>\n",
       "      <td>129</td>\n",
       "      <td>1</td>\n",
       "      <td>2.6</td>\n",
       "      <td>2</td>\n",
       "      <td>2</td>\n",
       "      <td>reversible</td>\n",
       "      <td>0</td>\n",
       "    </tr>\n",
       "  </tbody>\n",
       "</table>\n",
       "</div>"
      ],
      "text/plain": [
       "   age  sex  cp  trestbps  chol  fbs  restecg  thalach  exang  oldpeak  slope  \\\n",
       "0   63    1   1       145   233    1        2      150      0      2.3      3   \n",
       "1   67    1   4       160   286    0        2      108      1      1.5      2   \n",
       "2   67    1   4       120   229    0        2      129      1      2.6      2   \n",
       "\n",
       "   ca        thal  target  \n",
       "0   0       fixed       0  \n",
       "1   3      normal       1  \n",
       "2   2  reversible       0  "
      ]
     },
     "execution_count": 15,
     "metadata": {},
     "output_type": "execute_result"
    }
   ],
   "source": [
    "df = pd.read_csv(f'{data_root}heart.csv')\n",
    "df.dropna(inplace=True)\n",
    "df.head(3)"
   ]
  },
  {
   "cell_type": "code",
   "execution_count": 16,
   "metadata": {
    "ExecuteTime": {
     "end_time": "2021-09-17T12:15:26.108419Z",
     "start_time": "2021-09-17T12:15:26.106427Z"
    }
   },
   "outputs": [],
   "source": [
    "num_cols = ['age', 'trestbps', 'chol', 'thalach', 'oldpeak']\n",
    "target_var = 'target'"
   ]
  },
  {
   "cell_type": "code",
   "execution_count": 17,
   "metadata": {
    "ExecuteTime": {
     "end_time": "2021-09-17T12:15:30.472302Z",
     "start_time": "2021-09-17T12:15:30.417809Z"
    }
   },
   "outputs": [],
   "source": [
    "corr_list = []\n",
    "p_value_list = []\n",
    "relationship_list = []\n",
    "\n",
    "for col in num_cols:\n",
    "    if df[col].nunique() > 150:\n",
    "        df[col] = pd.qcut(df[col], 100, labels=False, duplicates='drop')\n",
    "        df[col] = df[col].astype(np.float32)\n",
    "    \n",
    "    t = df[[col,target_var]].groupby(col).mean().reset_index()\n",
    "\n",
    "    corr, p_value = spearmanr(t[col].values, t[target_var].values)\n",
    "    \n",
    "    corr_list.append(f'{corr:.03f}')\n",
    "    p_value_list.append(f'{p_value:.03}')\n",
    "    \n",
    "    if p_value < 0.05 and abs(corr) > 0.5:\n",
    "        relationship = 'Increasing' if corr > 0 else 'Decreasing'\n",
    "    else:\n",
    "        relationship = 'p_value > 0.05 or abs(corr) < 0.5'\n",
    "        \n",
    "    relationship_list.append(relationship)\n"
   ]
  },
  {
   "cell_type": "code",
   "execution_count": 18,
   "metadata": {
    "ExecuteTime": {
     "end_time": "2021-09-17T12:15:32.416810Z",
     "start_time": "2021-09-17T12:15:32.401816Z"
    }
   },
   "outputs": [
    {
     "data": {
      "text/html": [
       "<div>\n",
       "<style scoped>\n",
       "    .dataframe tbody tr th:only-of-type {\n",
       "        vertical-align: middle;\n",
       "    }\n",
       "\n",
       "    .dataframe tbody tr th {\n",
       "        vertical-align: top;\n",
       "    }\n",
       "\n",
       "    .dataframe thead th {\n",
       "        text-align: right;\n",
       "    }\n",
       "</style>\n",
       "<table border=\"1\" class=\"dataframe\">\n",
       "  <thead>\n",
       "    <tr style=\"text-align: right;\">\n",
       "      <th></th>\n",
       "      <th>Input Columns</th>\n",
       "      <th>Target</th>\n",
       "      <th>Correlation</th>\n",
       "      <th>p_value</th>\n",
       "      <th>Relationship</th>\n",
       "    </tr>\n",
       "  </thead>\n",
       "  <tbody>\n",
       "    <tr>\n",
       "      <th>0</th>\n",
       "      <td>age</td>\n",
       "      <td>target</td>\n",
       "      <td>0.384</td>\n",
       "      <td>0.0131</td>\n",
       "      <td>p_value &gt; 0.05 or abs(corr) &lt; 0.5</td>\n",
       "    </tr>\n",
       "    <tr>\n",
       "      <th>1</th>\n",
       "      <td>trestbps</td>\n",
       "      <td>target</td>\n",
       "      <td>0.188</td>\n",
       "      <td>0.191</td>\n",
       "      <td>p_value &gt; 0.05 or abs(corr) &lt; 0.5</td>\n",
       "    </tr>\n",
       "    <tr>\n",
       "      <th>2</th>\n",
       "      <td>chol</td>\n",
       "      <td>target</td>\n",
       "      <td>0.143</td>\n",
       "      <td>0.166</td>\n",
       "      <td>p_value &gt; 0.05 or abs(corr) &lt; 0.5</td>\n",
       "    </tr>\n",
       "    <tr>\n",
       "      <th>3</th>\n",
       "      <td>thalach</td>\n",
       "      <td>target</td>\n",
       "      <td>-0.588</td>\n",
       "      <td>9.01e-10</td>\n",
       "      <td>Decreasing</td>\n",
       "    </tr>\n",
       "    <tr>\n",
       "      <th>4</th>\n",
       "      <td>oldpeak</td>\n",
       "      <td>target</td>\n",
       "      <td>0.635</td>\n",
       "      <td>1.08e-05</td>\n",
       "      <td>Increasing</td>\n",
       "    </tr>\n",
       "  </tbody>\n",
       "</table>\n",
       "</div>"
      ],
      "text/plain": [
       "  Input Columns  Target Correlation   p_value  \\\n",
       "0           age  target       0.384    0.0131   \n",
       "1      trestbps  target       0.188     0.191   \n",
       "2          chol  target       0.143     0.166   \n",
       "3       thalach  target      -0.588  9.01e-10   \n",
       "4       oldpeak  target       0.635  1.08e-05   \n",
       "\n",
       "                        Relationship  \n",
       "0  p_value > 0.05 or abs(corr) < 0.5  \n",
       "1  p_value > 0.05 or abs(corr) < 0.5  \n",
       "2  p_value > 0.05 or abs(corr) < 0.5  \n",
       "3                         Decreasing  \n",
       "4                         Increasing  "
      ]
     },
     "execution_count": 18,
     "metadata": {},
     "output_type": "execute_result"
    }
   ],
   "source": [
    "summary_df = pd.DataFrame({'Input Columns':num_cols, 'Correlation':corr_list, 'p_value':p_value_list, 'Relationship':relationship_list})\n",
    "summary_df['Target'] = target_var\n",
    "summary_df = summary_df[['Input Columns', 'Target', 'Correlation', 'p_value', 'Relationship']].copy()\n",
    "summary_df"
   ]
  },
  {
   "cell_type": "code",
   "execution_count": 19,
   "metadata": {
    "ExecuteTime": {
     "end_time": "2021-09-17T12:15:35.821809Z",
     "start_time": "2021-09-17T12:15:35.809808Z"
    }
   },
   "outputs": [],
   "source": [
    "output_tables[('heart', 'Spearman_rank')] = {'Feature': num_cols, 'Correlation': corr_list, 'p_value': p_value_list, 'Relationship': relationship_list}"
   ]
  },
  {
   "cell_type": "markdown",
   "metadata": {},
   "source": [
    "### Census Income"
   ]
  },
  {
   "cell_type": "code",
   "execution_count": 20,
   "metadata": {
    "ExecuteTime": {
     "end_time": "2021-09-17T12:15:52.077240Z",
     "start_time": "2021-09-17T12:15:52.011233Z"
    }
   },
   "outputs": [
    {
     "data": {
      "text/html": [
       "<div>\n",
       "<style scoped>\n",
       "    .dataframe tbody tr th:only-of-type {\n",
       "        vertical-align: middle;\n",
       "    }\n",
       "\n",
       "    .dataframe tbody tr th {\n",
       "        vertical-align: top;\n",
       "    }\n",
       "\n",
       "    .dataframe thead th {\n",
       "        text-align: right;\n",
       "    }\n",
       "</style>\n",
       "<table border=\"1\" class=\"dataframe\">\n",
       "  <thead>\n",
       "    <tr style=\"text-align: right;\">\n",
       "      <th></th>\n",
       "      <th>Age</th>\n",
       "      <th>WorkClass</th>\n",
       "      <th>fnlwgt</th>\n",
       "      <th>Education</th>\n",
       "      <th>EducationNum</th>\n",
       "      <th>MaritalStatus</th>\n",
       "      <th>Occupation</th>\n",
       "      <th>Relationship</th>\n",
       "      <th>Race</th>\n",
       "      <th>Gender</th>\n",
       "      <th>CapitalGain</th>\n",
       "      <th>CapitalLoss</th>\n",
       "      <th>HoursPerWeek</th>\n",
       "      <th>NativeCountry</th>\n",
       "      <th>Income</th>\n",
       "      <th>target</th>\n",
       "    </tr>\n",
       "  </thead>\n",
       "  <tbody>\n",
       "    <tr>\n",
       "      <th>0</th>\n",
       "      <td>39</td>\n",
       "      <td>State-gov</td>\n",
       "      <td>77516</td>\n",
       "      <td>Bachelors</td>\n",
       "      <td>13</td>\n",
       "      <td>Never-married</td>\n",
       "      <td>Adm-clerical</td>\n",
       "      <td>Not-in-family</td>\n",
       "      <td>White</td>\n",
       "      <td>Male</td>\n",
       "      <td>2174</td>\n",
       "      <td>0</td>\n",
       "      <td>40</td>\n",
       "      <td>United-States</td>\n",
       "      <td>&lt;=50K</td>\n",
       "      <td>0</td>\n",
       "    </tr>\n",
       "    <tr>\n",
       "      <th>1</th>\n",
       "      <td>50</td>\n",
       "      <td>Self-emp-not-inc</td>\n",
       "      <td>83311</td>\n",
       "      <td>Bachelors</td>\n",
       "      <td>13</td>\n",
       "      <td>Married-civ-spouse</td>\n",
       "      <td>Exec-managerial</td>\n",
       "      <td>Husband</td>\n",
       "      <td>White</td>\n",
       "      <td>Male</td>\n",
       "      <td>0</td>\n",
       "      <td>0</td>\n",
       "      <td>13</td>\n",
       "      <td>United-States</td>\n",
       "      <td>&lt;=50K</td>\n",
       "      <td>0</td>\n",
       "    </tr>\n",
       "    <tr>\n",
       "      <th>2</th>\n",
       "      <td>38</td>\n",
       "      <td>Private</td>\n",
       "      <td>215646</td>\n",
       "      <td>HS-grad</td>\n",
       "      <td>9</td>\n",
       "      <td>Divorced</td>\n",
       "      <td>Handlers-cleaners</td>\n",
       "      <td>Not-in-family</td>\n",
       "      <td>White</td>\n",
       "      <td>Male</td>\n",
       "      <td>0</td>\n",
       "      <td>0</td>\n",
       "      <td>40</td>\n",
       "      <td>United-States</td>\n",
       "      <td>&lt;=50K</td>\n",
       "      <td>0</td>\n",
       "    </tr>\n",
       "  </tbody>\n",
       "</table>\n",
       "</div>"
      ],
      "text/plain": [
       "   Age          WorkClass  fnlwgt   Education  EducationNum  \\\n",
       "0   39          State-gov   77516   Bachelors            13   \n",
       "1   50   Self-emp-not-inc   83311   Bachelors            13   \n",
       "2   38            Private  215646     HS-grad             9   \n",
       "\n",
       "         MaritalStatus          Occupation    Relationship    Race Gender  \\\n",
       "0        Never-married        Adm-clerical   Not-in-family   White   Male   \n",
       "1   Married-civ-spouse     Exec-managerial         Husband   White   Male   \n",
       "2             Divorced   Handlers-cleaners   Not-in-family   White   Male   \n",
       "\n",
       "   CapitalGain  CapitalLoss  HoursPerWeek   NativeCountry  Income  target  \n",
       "0         2174            0            40   United-States   <=50K       0  \n",
       "1            0            0            13   United-States   <=50K       0  \n",
       "2            0            0            40   United-States   <=50K       0  "
      ]
     },
     "execution_count": 20,
     "metadata": {},
     "output_type": "execute_result"
    }
   ],
   "source": [
    "df = pd.read_csv(f'{data_root}adult.data', header=None)\n",
    "df.columns = [\n",
    "    \"Age\", \"WorkClass\", \"fnlwgt\", \"Education\", \"EducationNum\",\n",
    "    \"MaritalStatus\", \"Occupation\", \"Relationship\", \"Race\", \"Gender\",\n",
    "    \"CapitalGain\", \"CapitalLoss\", \"HoursPerWeek\", \"NativeCountry\", \"Income\"\n",
    "]\n",
    "train_cols = df.columns[0:-1]\n",
    "label = df.columns[-1]\n",
    "df.dropna(inplace=True)\n",
    "df['target'] = df[label].astype('category')\n",
    "df['target'] = df['target'].cat.codes\n",
    "df.head(3)"
   ]
  },
  {
   "cell_type": "code",
   "execution_count": 21,
   "metadata": {
    "ExecuteTime": {
     "end_time": "2021-09-17T12:15:56.419459Z",
     "start_time": "2021-09-17T12:15:56.402446Z"
    }
   },
   "outputs": [],
   "source": [
    "num_cols = [\n",
    "    'Age', 'fnlwgt', 'EducationNum', \n",
    "    'CapitalGain', 'CapitalLoss', 'HoursPerWeek'\n",
    "]\n",
    "target_var = 'target'"
   ]
  },
  {
   "cell_type": "code",
   "execution_count": 22,
   "metadata": {
    "ExecuteTime": {
     "end_time": "2021-09-17T12:15:58.655076Z",
     "start_time": "2021-09-17T12:15:58.626060Z"
    }
   },
   "outputs": [],
   "source": [
    "corr_list = []\n",
    "p_value_list = []\n",
    "relationship_list = []\n",
    "\n",
    "for col in num_cols:\n",
    "    if df[col].nunique() > 150:\n",
    "        df[col] = pd.qcut(df[col], 100, labels=False, duplicates='drop')\n",
    "        df[col] = df[col].astype(np.float32)\n",
    "\n",
    "    t = df[[col,target_var]].groupby(col).mean().reset_index()\n",
    "\n",
    "    corr, p_value = spearmanr(t[col].values, t[target_var].values)\n",
    "    \n",
    "    corr_list.append(f'{corr:.03f}')\n",
    "    p_value_list.append(f'{p_value:.03}')\n",
    "    \n",
    "    if p_value < 0.05 and abs(corr) > 0.5:\n",
    "        relationship = 'Increasing' if corr > 0 else 'Decreasing'\n",
    "    else:\n",
    "        relationship = 'p_value > 0.05 or abs(corr) < 0.5'\n",
    "        \n",
    "    relationship_list.append(relationship)\n"
   ]
  },
  {
   "cell_type": "code",
   "execution_count": 23,
   "metadata": {
    "ExecuteTime": {
     "end_time": "2021-09-17T12:16:00.974160Z",
     "start_time": "2021-09-17T12:16:00.955155Z"
    }
   },
   "outputs": [
    {
     "data": {
      "text/html": [
       "<div>\n",
       "<style scoped>\n",
       "    .dataframe tbody tr th:only-of-type {\n",
       "        vertical-align: middle;\n",
       "    }\n",
       "\n",
       "    .dataframe tbody tr th {\n",
       "        vertical-align: top;\n",
       "    }\n",
       "\n",
       "    .dataframe thead th {\n",
       "        text-align: right;\n",
       "    }\n",
       "</style>\n",
       "<table border=\"1\" class=\"dataframe\">\n",
       "  <thead>\n",
       "    <tr style=\"text-align: right;\">\n",
       "      <th></th>\n",
       "      <th>Input Columns</th>\n",
       "      <th>Target</th>\n",
       "      <th>Correlation</th>\n",
       "      <th>p_value</th>\n",
       "      <th>Relationship</th>\n",
       "    </tr>\n",
       "  </thead>\n",
       "  <tbody>\n",
       "    <tr>\n",
       "      <th>0</th>\n",
       "      <td>Age</td>\n",
       "      <td>target</td>\n",
       "      <td>-0.002</td>\n",
       "      <td>0.987</td>\n",
       "      <td>p_value &gt; 0.05 or abs(corr) &lt; 0.5</td>\n",
       "    </tr>\n",
       "    <tr>\n",
       "      <th>1</th>\n",
       "      <td>fnlwgt</td>\n",
       "      <td>target</td>\n",
       "      <td>-0.121</td>\n",
       "      <td>0.229</td>\n",
       "      <td>p_value &gt; 0.05 or abs(corr) &lt; 0.5</td>\n",
       "    </tr>\n",
       "    <tr>\n",
       "      <th>2</th>\n",
       "      <td>EducationNum</td>\n",
       "      <td>target</td>\n",
       "      <td>0.976</td>\n",
       "      <td>1.01e-10</td>\n",
       "      <td>Increasing</td>\n",
       "    </tr>\n",
       "    <tr>\n",
       "      <th>3</th>\n",
       "      <td>CapitalGain</td>\n",
       "      <td>target</td>\n",
       "      <td>0.622</td>\n",
       "      <td>4.46e-14</td>\n",
       "      <td>Increasing</td>\n",
       "    </tr>\n",
       "    <tr>\n",
       "      <th>4</th>\n",
       "      <td>CapitalLoss</td>\n",
       "      <td>target</td>\n",
       "      <td>0.326</td>\n",
       "      <td>0.00151</td>\n",
       "      <td>p_value &gt; 0.05 or abs(corr) &lt; 0.5</td>\n",
       "    </tr>\n",
       "    <tr>\n",
       "      <th>5</th>\n",
       "      <td>HoursPerWeek</td>\n",
       "      <td>target</td>\n",
       "      <td>0.375</td>\n",
       "      <td>0.000192</td>\n",
       "      <td>p_value &gt; 0.05 or abs(corr) &lt; 0.5</td>\n",
       "    </tr>\n",
       "  </tbody>\n",
       "</table>\n",
       "</div>"
      ],
      "text/plain": [
       "  Input Columns  Target Correlation   p_value  \\\n",
       "0           Age  target      -0.002     0.987   \n",
       "1        fnlwgt  target      -0.121     0.229   \n",
       "2  EducationNum  target       0.976  1.01e-10   \n",
       "3   CapitalGain  target       0.622  4.46e-14   \n",
       "4   CapitalLoss  target       0.326   0.00151   \n",
       "5  HoursPerWeek  target       0.375  0.000192   \n",
       "\n",
       "                        Relationship  \n",
       "0  p_value > 0.05 or abs(corr) < 0.5  \n",
       "1  p_value > 0.05 or abs(corr) < 0.5  \n",
       "2                         Increasing  \n",
       "3                         Increasing  \n",
       "4  p_value > 0.05 or abs(corr) < 0.5  \n",
       "5  p_value > 0.05 or abs(corr) < 0.5  "
      ]
     },
     "execution_count": 23,
     "metadata": {},
     "output_type": "execute_result"
    }
   ],
   "source": [
    "summary_df = pd.DataFrame({'Input Columns':num_cols, 'Correlation':corr_list, 'p_value':p_value_list, 'Relationship':relationship_list})\n",
    "summary_df['Target'] = target_var\n",
    "summary_df = summary_df[['Input Columns', 'Target', 'Correlation', 'p_value', 'Relationship']].copy()\n",
    "summary_df"
   ]
  },
  {
   "cell_type": "code",
   "execution_count": 24,
   "metadata": {
    "ExecuteTime": {
     "end_time": "2021-09-17T12:16:03.448008Z",
     "start_time": "2021-09-17T12:16:03.442999Z"
    }
   },
   "outputs": [],
   "source": [
    "output_tables[('adult', 'Spearman_rank')] = {'Feature': num_cols, 'Correlation': corr_list, 'p_value': p_value_list, 'Relationship': relationship_list}"
   ]
  },
  {
   "cell_type": "markdown",
   "metadata": {},
   "source": [
    "### Edmonton House Price"
   ]
  },
  {
   "cell_type": "code",
   "execution_count": 25,
   "metadata": {
    "ExecuteTime": {
     "end_time": "2021-09-17T12:16:15.477142Z",
     "start_time": "2021-09-17T12:16:15.155057Z"
    }
   },
   "outputs": [
    {
     "data": {
      "text/html": [
       "<div>\n",
       "<style scoped>\n",
       "    .dataframe tbody tr th:only-of-type {\n",
       "        vertical-align: middle;\n",
       "    }\n",
       "\n",
       "    .dataframe tbody tr th {\n",
       "        vertical-align: top;\n",
       "    }\n",
       "\n",
       "    .dataframe thead th {\n",
       "        text-align: right;\n",
       "    }\n",
       "</style>\n",
       "<table border=\"1\" class=\"dataframe\">\n",
       "  <thead>\n",
       "    <tr style=\"text-align: right;\">\n",
       "      <th></th>\n",
       "      <th>Unnamed: 0</th>\n",
       "      <th>Latitude</th>\n",
       "      <th>Longitude</th>\n",
       "      <th>Neighbourhood</th>\n",
       "      <th>Actual Year Built</th>\n",
       "      <th>Garage</th>\n",
       "      <th>Zoning</th>\n",
       "      <th>Lot Size</th>\n",
       "      <th>Assessed Value</th>\n",
       "      <th>Assessed_value_log</th>\n",
       "    </tr>\n",
       "  </thead>\n",
       "  <tbody>\n",
       "    <tr>\n",
       "      <th>0</th>\n",
       "      <td>306158</td>\n",
       "      <td>-1.333944</td>\n",
       "      <td>-1.232774</td>\n",
       "      <td>6</td>\n",
       "      <td>1.051737</td>\n",
       "      <td>0</td>\n",
       "      <td>42</td>\n",
       "      <td>-2.192949</td>\n",
       "      <td>5500.0</td>\n",
       "      <td>-2.091068</td>\n",
       "    </tr>\n",
       "    <tr>\n",
       "      <th>1</th>\n",
       "      <td>211571</td>\n",
       "      <td>-0.963167</td>\n",
       "      <td>-0.789397</td>\n",
       "      <td>308</td>\n",
       "      <td>0.608532</td>\n",
       "      <td>1</td>\n",
       "      <td>50</td>\n",
       "      <td>0.726668</td>\n",
       "      <td>733000.0</td>\n",
       "      <td>1.522649</td>\n",
       "    </tr>\n",
       "    <tr>\n",
       "      <th>2</th>\n",
       "      <td>163320</td>\n",
       "      <td>-0.711721</td>\n",
       "      <td>0.875023</td>\n",
       "      <td>184</td>\n",
       "      <td>-0.785967</td>\n",
       "      <td>1</td>\n",
       "      <td>55</td>\n",
       "      <td>0.211198</td>\n",
       "      <td>219500.0</td>\n",
       "      <td>-0.265516</td>\n",
       "    </tr>\n",
       "  </tbody>\n",
       "</table>\n",
       "</div>"
      ],
      "text/plain": [
       "   Unnamed: 0  Latitude  Longitude  Neighbourhood  Actual Year Built  Garage  \\\n",
       "0      306158 -1.333944  -1.232774              6           1.051737       0   \n",
       "1      211571 -0.963167  -0.789397            308           0.608532       1   \n",
       "2      163320 -0.711721   0.875023            184          -0.785967       1   \n",
       "\n",
       "   Zoning  Lot Size  Assessed Value  Assessed_value_log  \n",
       "0      42 -2.192949          5500.0           -2.091068  \n",
       "1      50  0.726668        733000.0            1.522649  \n",
       "2      55  0.211198        219500.0           -0.265516  "
      ]
     },
     "execution_count": 25,
     "metadata": {},
     "output_type": "execute_result"
    }
   ],
   "source": [
    "df = pd.read_csv(f'{data_root}housing_train.csv')\n",
    "df.dropna(inplace=True)\n",
    "df.head(3)"
   ]
  },
  {
   "cell_type": "code",
   "execution_count": 26,
   "metadata": {
    "ExecuteTime": {
     "end_time": "2021-09-17T12:16:16.642815Z",
     "start_time": "2021-09-17T12:16:16.633813Z"
    }
   },
   "outputs": [],
   "source": [
    "num_cols = ['Latitude', 'Longitude', 'Actual Year Built', 'Lot Size']    # read_data.ipynb\n",
    "target_var = 'Assessed_value_log'"
   ]
  },
  {
   "cell_type": "code",
   "execution_count": 27,
   "metadata": {
    "ExecuteTime": {
     "end_time": "2021-09-17T12:16:17.814108Z",
     "start_time": "2021-09-17T12:16:17.650062Z"
    }
   },
   "outputs": [],
   "source": [
    "corr_list = []\n",
    "p_value_list = []\n",
    "relationship_list = []\n",
    "\n",
    "for col in num_cols:\n",
    "    if df[col].nunique() > 150:\n",
    "        df[col] = pd.qcut(df[col], 100, labels=False, duplicates='drop')\n",
    "        df[col] = df[col].astype(np.float32)\n",
    "\n",
    "    t = df[[col,target_var]].groupby(col).mean().reset_index()\n",
    "    \n",
    "    corr, p_value = spearmanr(t[col].values, t[target_var].values)\n",
    "    \n",
    "    corr_list.append(f'{corr:.03f}')\n",
    "    p_value_list.append(f'{p_value:.03}')\n",
    "    \n",
    "    if p_value < 0.05 and abs(corr) > 0.5:\n",
    "        relationship = 'Increasing' if corr > 0 else 'Decreasing'\n",
    "    else:\n",
    "        relationship = 'p_value > 0.05 or abs(corr) < 0.5'\n",
    "        \n",
    "    relationship_list.append(relationship)\n"
   ]
  },
  {
   "cell_type": "code",
   "execution_count": 28,
   "metadata": {
    "ExecuteTime": {
     "end_time": "2021-09-17T12:16:19.142091Z",
     "start_time": "2021-09-17T12:16:19.130080Z"
    }
   },
   "outputs": [
    {
     "data": {
      "text/html": [
       "<div>\n",
       "<style scoped>\n",
       "    .dataframe tbody tr th:only-of-type {\n",
       "        vertical-align: middle;\n",
       "    }\n",
       "\n",
       "    .dataframe tbody tr th {\n",
       "        vertical-align: top;\n",
       "    }\n",
       "\n",
       "    .dataframe thead th {\n",
       "        text-align: right;\n",
       "    }\n",
       "</style>\n",
       "<table border=\"1\" class=\"dataframe\">\n",
       "  <thead>\n",
       "    <tr style=\"text-align: right;\">\n",
       "      <th></th>\n",
       "      <th>Input Columns</th>\n",
       "      <th>Target</th>\n",
       "      <th>Correlation</th>\n",
       "      <th>p_value</th>\n",
       "      <th>Relationship</th>\n",
       "    </tr>\n",
       "  </thead>\n",
       "  <tbody>\n",
       "    <tr>\n",
       "      <th>0</th>\n",
       "      <td>Latitude</td>\n",
       "      <td>Assessed_value_log</td>\n",
       "      <td>-0.304</td>\n",
       "      <td>0.00213</td>\n",
       "      <td>p_value &gt; 0.05 or abs(corr) &lt; 0.5</td>\n",
       "    </tr>\n",
       "    <tr>\n",
       "      <th>1</th>\n",
       "      <td>Longitude</td>\n",
       "      <td>Assessed_value_log</td>\n",
       "      <td>-0.209</td>\n",
       "      <td>0.0369</td>\n",
       "      <td>p_value &gt; 0.05 or abs(corr) &lt; 0.5</td>\n",
       "    </tr>\n",
       "    <tr>\n",
       "      <th>2</th>\n",
       "      <td>Actual Year Built</td>\n",
       "      <td>Assessed_value_log</td>\n",
       "      <td>-0.109</td>\n",
       "      <td>0.237</td>\n",
       "      <td>p_value &gt; 0.05 or abs(corr) &lt; 0.5</td>\n",
       "    </tr>\n",
       "    <tr>\n",
       "      <th>3</th>\n",
       "      <td>Lot Size</td>\n",
       "      <td>Assessed_value_log</td>\n",
       "      <td>0.917</td>\n",
       "      <td>7.41e-41</td>\n",
       "      <td>Increasing</td>\n",
       "    </tr>\n",
       "  </tbody>\n",
       "</table>\n",
       "</div>"
      ],
      "text/plain": [
       "       Input Columns              Target Correlation   p_value  \\\n",
       "0           Latitude  Assessed_value_log      -0.304   0.00213   \n",
       "1          Longitude  Assessed_value_log      -0.209    0.0369   \n",
       "2  Actual Year Built  Assessed_value_log      -0.109     0.237   \n",
       "3           Lot Size  Assessed_value_log       0.917  7.41e-41   \n",
       "\n",
       "                        Relationship  \n",
       "0  p_value > 0.05 or abs(corr) < 0.5  \n",
       "1  p_value > 0.05 or abs(corr) < 0.5  \n",
       "2  p_value > 0.05 or abs(corr) < 0.5  \n",
       "3                         Increasing  "
      ]
     },
     "execution_count": 28,
     "metadata": {},
     "output_type": "execute_result"
    }
   ],
   "source": [
    "summary_df = pd.DataFrame({'Input Columns':num_cols, 'Correlation':corr_list, 'p_value':p_value_list, 'Relationship':relationship_list})\n",
    "summary_df['Target'] = target_var\n",
    "summary_df = summary_df[['Input Columns','Target','Correlation','p_value','Relationship']].copy()\n",
    "summary_df"
   ]
  },
  {
   "cell_type": "code",
   "execution_count": 29,
   "metadata": {
    "ExecuteTime": {
     "end_time": "2021-09-17T12:16:20.508999Z",
     "start_time": "2021-09-17T12:16:20.505997Z"
    }
   },
   "outputs": [],
   "source": [
    "output_tables[('housing', 'Spearman_rank')] = {'Feature': num_cols, 'Correlation': corr_list, 'p_value': p_value_list, 'Relationship': relationship_list}"
   ]
  },
  {
   "cell_type": "markdown",
   "metadata": {},
   "source": [
    "## Further exploration - Mann Kendall test\n",
    "    \n",
    "+ https://www.statisticshowto.com/mann-kendall-trend-test/\n",
    "+ https://www.statisticshowto.com/wp-content/uploads/2016/08/Mann-Kendall-Analysis-1.pdf\n",
    "\n",
    "python package: [pymannkendall](https://pypi.org/project/pymannkendall/)"
   ]
  },
  {
   "cell_type": "code",
   "execution_count": 30,
   "metadata": {
    "ExecuteTime": {
     "end_time": "2021-09-17T12:16:43.620004Z",
     "start_time": "2021-09-17T12:16:43.602000Z"
    }
   },
   "outputs": [],
   "source": [
    "import pymannkendall as mk\n",
    "from collections import defaultdict"
   ]
  },
  {
   "cell_type": "code",
   "execution_count": 31,
   "metadata": {
    "ExecuteTime": {
     "end_time": "2021-09-17T12:16:44.366809Z",
     "start_time": "2021-09-17T12:16:44.361806Z"
    }
   },
   "outputs": [],
   "source": [
    "alpha = 0.05    # significance level\n",
    "seed = 4042"
   ]
  },
  {
   "cell_type": "code",
   "execution_count": 32,
   "metadata": {
    "ExecuteTime": {
     "end_time": "2021-09-17T12:16:46.298800Z",
     "start_time": "2021-09-17T12:16:46.281806Z"
    }
   },
   "outputs": [],
   "source": [
    "def mkTest(data, feature_name, label_name, alpha=0.05):\n",
    "    xs = data[feature_name].to_numpy()\n",
    "    ys = data[label_name].to_numpy()\n",
    "\n",
    "    d = defaultdict(list)\n",
    "    for i, x in enumerate(xs):\n",
    "        y = ys[i]\n",
    "        d[x].append(y)\n",
    "    \n",
    "    fake_ts = np.array([np.mean(d[x]) for x in sorted(d)])\n",
    "    trend, h, p, z, Tau, s, var_s, slope, intercept = mk.original_test(fake_ts, alpha=alpha)\n",
    "\n",
    "    return p, z, Tau, trend\n",
    "\n",
    "\n",
    "def mkSampleTest(data, feature_name, label_name, alpha=0.05, sample_size=0.1, seed=100):\n",
    "    sample_data = df.sample(frac=sample_size, random_state=seed).sort_index()\n",
    "    p, z, Tau, trend = mkTest(sample_data, feature_name, label_name, alpha)\n",
    "    return p, z, Tau, trend\n"
   ]
  },
  {
   "cell_type": "markdown",
   "metadata": {},
   "source": [
    "### Heart Disease"
   ]
  },
  {
   "cell_type": "code",
   "execution_count": 33,
   "metadata": {
    "ExecuteTime": {
     "end_time": "2021-09-17T12:17:00.142903Z",
     "start_time": "2021-09-17T12:17:00.121898Z"
    }
   },
   "outputs": [],
   "source": [
    "df = pd.read_csv(f'{data_root}heart.csv')\n",
    "df.dropna(inplace=True)\n",
    "num_cols = ['age', 'trestbps', 'chol', 'thalach', 'oldpeak']\n",
    "target_var = 'target'"
   ]
  },
  {
   "cell_type": "code",
   "execution_count": 34,
   "metadata": {
    "ExecuteTime": {
     "end_time": "2021-09-17T12:17:02.711815Z",
     "start_time": "2021-09-17T12:17:02.673816Z"
    }
   },
   "outputs": [
    {
     "data": {
      "text/html": [
       "<div>\n",
       "<style scoped>\n",
       "    .dataframe tbody tr th:only-of-type {\n",
       "        vertical-align: middle;\n",
       "    }\n",
       "\n",
       "    .dataframe tbody tr th {\n",
       "        vertical-align: top;\n",
       "    }\n",
       "\n",
       "    .dataframe thead th {\n",
       "        text-align: right;\n",
       "    }\n",
       "</style>\n",
       "<table border=\"1\" class=\"dataframe\">\n",
       "  <thead>\n",
       "    <tr style=\"text-align: right;\">\n",
       "      <th></th>\n",
       "      <th>Feature</th>\n",
       "      <th>Correlation</th>\n",
       "      <th>p_value</th>\n",
       "      <th>Relationship</th>\n",
       "    </tr>\n",
       "  </thead>\n",
       "  <tbody>\n",
       "    <tr>\n",
       "      <th>0</th>\n",
       "      <td>age</td>\n",
       "      <td>0.297561</td>\n",
       "      <td>5.984754e-03</td>\n",
       "      <td>increasing</td>\n",
       "    </tr>\n",
       "    <tr>\n",
       "      <th>1</th>\n",
       "      <td>trestbps</td>\n",
       "      <td>0.144490</td>\n",
       "      <td>1.305558e-01</td>\n",
       "      <td>no trend</td>\n",
       "    </tr>\n",
       "    <tr>\n",
       "      <th>2</th>\n",
       "      <td>chol</td>\n",
       "      <td>0.071541</td>\n",
       "      <td>1.447837e-01</td>\n",
       "      <td>no trend</td>\n",
       "    </tr>\n",
       "    <tr>\n",
       "      <th>3</th>\n",
       "      <td>thalach</td>\n",
       "      <td>-0.422222</td>\n",
       "      <td>5.831169e-10</td>\n",
       "      <td>decreasing</td>\n",
       "    </tr>\n",
       "    <tr>\n",
       "      <th>4</th>\n",
       "      <td>oldpeak</td>\n",
       "      <td>0.457692</td>\n",
       "      <td>2.728539e-05</td>\n",
       "      <td>increasing</td>\n",
       "    </tr>\n",
       "  </tbody>\n",
       "</table>\n",
       "</div>"
      ],
      "text/plain": [
       "    Feature  Correlation       p_value Relationship\n",
       "0       age     0.297561  5.984754e-03   increasing\n",
       "1  trestbps     0.144490  1.305558e-01     no trend\n",
       "2      chol     0.071541  1.447837e-01     no trend\n",
       "3   thalach    -0.422222  5.831169e-10   decreasing\n",
       "4   oldpeak     0.457692  2.728539e-05   increasing"
      ]
     },
     "execution_count": 34,
     "metadata": {},
     "output_type": "execute_result"
    }
   ],
   "source": [
    "res = {}\n",
    "corr_list = []\n",
    "p_value_list = []\n",
    "relationship_list = []\n",
    "\n",
    "for col in num_cols:\n",
    "    p, z, Tau, trend = mkTest(df, col, target_var, alpha=alpha)\n",
    "\n",
    "    corr_list.append(Tau)\n",
    "    p_value_list.append(p)\n",
    "    relationship_list.append(trend)\n",
    "\n",
    "res = {'Feature': num_cols, 'Correlation': corr_list, 'p_value': p_value_list, 'Relationship': relationship_list}\n",
    "pd.DataFrame(res)"
   ]
  },
  {
   "cell_type": "code",
   "execution_count": 35,
   "metadata": {
    "ExecuteTime": {
     "end_time": "2021-09-17T12:17:06.543215Z",
     "start_time": "2021-09-17T12:17:06.530211Z"
    }
   },
   "outputs": [],
   "source": [
    "output_tables[('heart', 'Mann_Kendall')] = res"
   ]
  },
  {
   "cell_type": "code",
   "execution_count": 36,
   "metadata": {
    "ExecuteTime": {
     "end_time": "2021-09-17T12:17:08.230782Z",
     "start_time": "2021-09-17T12:17:08.186795Z"
    }
   },
   "outputs": [],
   "source": [
    "xas = np.arange(0.1, 1.1, 0.1)\n",
    "p_vals = []\n",
    "z_stats = []\n",
    "Tau_corrs = []\n",
    "for x in xas:\n",
    "    p, z, Tau, _ = mkSampleTest(df, 'thalach', target_var, alpha=alpha, sample_size=x, seed=seed)\n",
    "    p_vals.append(p)\n",
    "    z_stats.append(z)\n",
    "    Tau_corrs.append(Tau)\n"
   ]
  },
  {
   "cell_type": "code",
   "execution_count": 37,
   "metadata": {
    "ExecuteTime": {
     "end_time": "2021-09-17T12:17:12.106121Z",
     "start_time": "2021-09-17T12:17:11.978082Z"
    }
   },
   "outputs": [
    {
     "data": {
      "image/png": "[encoded data removed]",
      "text/plain": [
       "<Figure size 432x288 with 1 Axes>"
      ]
     },
     "metadata": {
      "needs_background": "light"
     },
     "output_type": "display_data"
    }
   ],
   "source": [
    "plt.plot(xas, p_vals, label='p-value');\n",
    "plt.plot(xas, z_stats, label='Z-score');\n",
    "# plt.plot(xas, Tau_corrs, label='Tau');\n",
    "plt.hlines(z_stats[-1], xmin=0, xmax=1.1, linestyles='-.')\n",
    "plt.legend();"
   ]
  },
  {
   "cell_type": "markdown",
   "metadata": {},
   "source": [
    "### Census Income"
   ]
  },
  {
   "cell_type": "code",
   "execution_count": 38,
   "metadata": {
    "ExecuteTime": {
     "end_time": "2021-09-17T12:17:33.084249Z",
     "start_time": "2021-09-17T12:17:33.019082Z"
    }
   },
   "outputs": [],
   "source": [
    "df = pd.read_csv(f'{data_root}adult.data', header=None)\n",
    "df.columns = [\n",
    "    \"Age\", \"WorkClass\", \"fnlwgt\", \"Education\", \"EducationNum\",\n",
    "    \"MaritalStatus\", \"Occupation\", \"Relationship\", \"Race\", \"Gender\",\n",
    "    \"CapitalGain\", \"CapitalLoss\", \"HoursPerWeek\", \"NativeCountry\", \"Income\"\n",
    "]\n",
    "train_cols = df.columns[0:-1]\n",
    "label = df.columns[-1]\n",
    "df.dropna(inplace=True)\n",
    "df['target'] = df[label].astype('category')\n",
    "df['target'] = df['target'].cat.codes\n",
    "num_cols = [\n",
    "    'Age', 'fnlwgt', 'EducationNum', \n",
    "    'CapitalGain', 'CapitalLoss', 'HoursPerWeek'\n",
    "]\n",
    "target_var = 'target'"
   ]
  },
  {
   "cell_type": "code",
   "execution_count": 39,
   "metadata": {
    "ExecuteTime": {
     "end_time": "2021-09-17T12:17:39.278692Z",
     "start_time": "2021-09-17T12:17:35.152247Z"
    }
   },
   "outputs": [
    {
     "data": {
      "text/html": [
       "<div>\n",
       "<style scoped>\n",
       "    .dataframe tbody tr th:only-of-type {\n",
       "        vertical-align: middle;\n",
       "    }\n",
       "\n",
       "    .dataframe tbody tr th {\n",
       "        vertical-align: top;\n",
       "    }\n",
       "\n",
       "    .dataframe thead th {\n",
       "        text-align: right;\n",
       "    }\n",
       "</style>\n",
       "<table border=\"1\" class=\"dataframe\">\n",
       "  <thead>\n",
       "    <tr style=\"text-align: right;\">\n",
       "      <th></th>\n",
       "      <th>Feature</th>\n",
       "      <th>Correlation</th>\n",
       "      <th>p_value</th>\n",
       "      <th>Relationship</th>\n",
       "    </tr>\n",
       "  </thead>\n",
       "  <tbody>\n",
       "    <tr>\n",
       "      <th>0</th>\n",
       "      <td>Age</td>\n",
       "      <td>-0.001903</td>\n",
       "      <td>9.847903e-01</td>\n",
       "      <td>no trend</td>\n",
       "    </tr>\n",
       "    <tr>\n",
       "      <th>1</th>\n",
       "      <td>fnlwgt</td>\n",
       "      <td>-0.010376</td>\n",
       "      <td>3.541357e-03</td>\n",
       "      <td>decreasing</td>\n",
       "    </tr>\n",
       "    <tr>\n",
       "      <th>2</th>\n",
       "      <td>EducationNum</td>\n",
       "      <td>0.916667</td>\n",
       "      <td>9.226613e-07</td>\n",
       "      <td>increasing</td>\n",
       "    </tr>\n",
       "    <tr>\n",
       "      <th>3</th>\n",
       "      <td>CapitalGain</td>\n",
       "      <td>0.325737</td>\n",
       "      <td>1.433675e-11</td>\n",
       "      <td>increasing</td>\n",
       "    </tr>\n",
       "    <tr>\n",
       "      <th>4</th>\n",
       "      <td>CapitalLoss</td>\n",
       "      <td>0.169135</td>\n",
       "      <td>2.443935e-03</td>\n",
       "      <td>increasing</td>\n",
       "    </tr>\n",
       "    <tr>\n",
       "      <th>5</th>\n",
       "      <td>HoursPerWeek</td>\n",
       "      <td>0.316861</td>\n",
       "      <td>5.930019e-06</td>\n",
       "      <td>increasing</td>\n",
       "    </tr>\n",
       "  </tbody>\n",
       "</table>\n",
       "</div>"
      ],
      "text/plain": [
       "        Feature  Correlation       p_value Relationship\n",
       "0           Age    -0.001903  9.847903e-01     no trend\n",
       "1        fnlwgt    -0.010376  3.541357e-03   decreasing\n",
       "2  EducationNum     0.916667  9.226613e-07   increasing\n",
       "3   CapitalGain     0.325737  1.433675e-11   increasing\n",
       "4   CapitalLoss     0.169135  2.443935e-03   increasing\n",
       "5  HoursPerWeek     0.316861  5.930019e-06   increasing"
      ]
     },
     "execution_count": 39,
     "metadata": {},
     "output_type": "execute_result"
    }
   ],
   "source": [
    "res = {}\n",
    "corr_list = []\n",
    "p_value_list = []\n",
    "relationship_list = []\n",
    "\n",
    "for col in num_cols:\n",
    "    p, z, Tau, trend = mkTest(df, col, target_var, alpha=alpha)\n",
    "\n",
    "    corr_list.append(Tau)\n",
    "    p_value_list.append(p)\n",
    "    relationship_list.append(trend)\n",
    "\n",
    "res = {'Feature': num_cols, 'Correlation': corr_list, 'p_value': p_value_list, 'Relationship': relationship_list}\n",
    "pd.DataFrame(res)"
   ]
  },
  {
   "cell_type": "code",
   "execution_count": 40,
   "metadata": {
    "ExecuteTime": {
     "end_time": "2021-09-17T12:17:42.682988Z",
     "start_time": "2021-09-17T12:17:42.674994Z"
    }
   },
   "outputs": [],
   "source": [
    "output_tables[('adult', 'Mann_Kendall')] = res"
   ]
  },
  {
   "cell_type": "code",
   "execution_count": 41,
   "metadata": {
    "ExecuteTime": {
     "end_time": "2021-09-17T12:18:03.342541Z",
     "start_time": "2021-09-17T12:17:44.170037Z"
    }
   },
   "outputs": [],
   "source": [
    "xas = np.arange(0.1, 1.1, 0.1)\n",
    "p_vals = []\n",
    "z_stats = []\n",
    "Tau_corrs = []\n",
    "for x in xas:\n",
    "    p, z, Tau, _ = mkSampleTest(df, 'fnlwgt', target_var, alpha=alpha, sample_size=x, seed=seed)\n",
    "    p_vals.append(p)\n",
    "    z_stats.append(z)\n",
    "    Tau_corrs.append(Tau)\n"
   ]
  },
  {
   "cell_type": "code",
   "execution_count": 42,
   "metadata": {
    "ExecuteTime": {
     "end_time": "2021-09-17T12:18:58.664817Z",
     "start_time": "2021-09-17T12:18:58.546800Z"
    }
   },
   "outputs": [
    {
     "data": {
      "image/png": "[encoded data removed]",
      "text/plain": [
       "<Figure size 432x288 with 1 Axes>"
      ]
     },
     "metadata": {
      "needs_background": "light"
     },
     "output_type": "display_data"
    }
   ],
   "source": [
    "plt.plot(xas, p_vals, label='p-value');\n",
    "plt.plot(xas, z_stats, label='Z-score');\n",
    "# plt.plot(xas, Tau_corrs, label='Tau');\n",
    "plt.hlines(z_stats[-1], xmin=0, xmax=1.1, linestyles='-.')\n",
    "plt.legend();"
   ]
  },
  {
   "cell_type": "code",
   "execution_count": 43,
   "metadata": {
    "ExecuteTime": {
     "end_time": "2021-09-17T12:19:02.129765Z",
     "start_time": "2021-09-17T12:19:01.962014Z"
    }
   },
   "outputs": [],
   "source": [
    "xas = np.arange(0.1, 1.1, 0.1)\n",
    "p_vals = []\n",
    "z_stats = []\n",
    "Tau_corrs = []\n",
    "for x in xas:\n",
    "    p, z, Tau, _ = mkSampleTest(df, 'CapitalGain', target_var, alpha=alpha, sample_size=x, seed=seed)\n",
    "    p_vals.append(p)\n",
    "    z_stats.append(z)\n",
    "    Tau_corrs.append(Tau)\n"
   ]
  },
  {
   "cell_type": "code",
   "execution_count": 44,
   "metadata": {
    "ExecuteTime": {
     "end_time": "2021-09-17T12:19:04.183805Z",
     "start_time": "2021-09-17T12:19:04.065778Z"
    }
   },
   "outputs": [
    {
     "data": {
      "image/png": "[encoded data removed]",
      "text/plain": [
       "<Figure size 432x288 with 1 Axes>"
      ]
     },
     "metadata": {
      "needs_background": "light"
     },
     "output_type": "display_data"
    }
   ],
   "source": [
    "plt.plot(xas, p_vals, label='p-value');\n",
    "plt.plot(xas, z_stats, label='Z-score');\n",
    "# plt.plot(xas, Tau_corrs, label='Tau');\n",
    "plt.hlines(z_stats[-1], xmin=0, xmax=1.1, linestyles='-.')\n",
    "plt.legend();"
   ]
  },
  {
   "cell_type": "code",
   "execution_count": 45,
   "metadata": {
    "ExecuteTime": {
     "end_time": "2021-09-17T12:19:06.852861Z",
     "start_time": "2021-09-17T12:19:06.682831Z"
    }
   },
   "outputs": [],
   "source": [
    "xas = np.arange(0.1, 1.1, 0.1)\n",
    "p_vals = []\n",
    "z_stats = []\n",
    "Tau_corrs = []\n",
    "for x in xas:\n",
    "    p, z, Tau, _ = mkSampleTest(df, 'CapitalLoss', target_var, alpha=alpha, sample_size=x, seed=seed)\n",
    "    p_vals.append(p)\n",
    "    z_stats.append(z)\n",
    "    Tau_corrs.append(Tau)\n"
   ]
  },
  {
   "cell_type": "code",
   "execution_count": 46,
   "metadata": {
    "ExecuteTime": {
     "end_time": "2021-09-17T12:19:09.078986Z",
     "start_time": "2021-09-17T12:19:08.961969Z"
    }
   },
   "outputs": [
    {
     "data": {
      "image/png": "[encoded data removed]",
      "text/plain": [
       "<Figure size 432x288 with 1 Axes>"
      ]
     },
     "metadata": {
      "needs_background": "light"
     },
     "output_type": "display_data"
    }
   ],
   "source": [
    "plt.plot(xas, p_vals, label='p-value');\n",
    "plt.plot(xas, z_stats, label='Z-score');\n",
    "# plt.plot(xas, Tau_corrs, label='Tau');\n",
    "plt.hlines(z_stats[-1], xmin=0, xmax=1.1, linestyles='-.')\n",
    "plt.legend();"
   ]
  },
  {
   "cell_type": "code",
   "execution_count": 47,
   "metadata": {
    "ExecuteTime": {
     "end_time": "2021-09-17T12:19:11.853101Z",
     "start_time": "2021-09-17T12:19:11.690056Z"
    }
   },
   "outputs": [],
   "source": [
    "xas = np.arange(0.1, 1.1, 0.1)\n",
    "p_vals = []\n",
    "z_stats = []\n",
    "Tau_corrs = []\n",
    "for x in xas:\n",
    "    p, z, Tau, _ = mkSampleTest(df, 'HoursPerWeek', target_var, alpha=alpha, sample_size=x, seed=seed)\n",
    "    p_vals.append(p)\n",
    "    z_stats.append(z)\n",
    "    Tau_corrs.append(Tau)\n"
   ]
  },
  {
   "cell_type": "code",
   "execution_count": 48,
   "metadata": {
    "ExecuteTime": {
     "end_time": "2021-09-17T12:19:13.637083Z",
     "start_time": "2021-09-17T12:19:13.538051Z"
    }
   },
   "outputs": [
    {
     "data": {
      "image/png": "[encoded data removed]",
      "text/plain": [
       "<Figure size 432x288 with 1 Axes>"
      ]
     },
     "metadata": {
      "needs_background": "light"
     },
     "output_type": "display_data"
    }
   ],
   "source": [
    "plt.plot(xas, p_vals, label='p-value');\n",
    "plt.plot(xas, z_stats, label='Z-score');\n",
    "# plt.plot(xas, Tau_corrs, label='Tau');\n",
    "plt.hlines(z_stats[-1], xmin=0, xmax=1.1, linestyles='-.')\n",
    "plt.legend();"
   ]
  },
  {
   "cell_type": "markdown",
   "metadata": {},
   "source": [
    "### Edmonton House Price"
   ]
  },
  {
   "cell_type": "code",
   "execution_count": 49,
   "metadata": {
    "ExecuteTime": {
     "end_time": "2021-09-17T12:19:26.595100Z",
     "start_time": "2021-09-17T12:19:26.274774Z"
    }
   },
   "outputs": [],
   "source": [
    "df = pd.read_csv(f'{data_root}housing_train.csv')\n",
    "df.dropna(inplace=True)\n",
    "num_cols = ['Latitude', 'Longitude', 'Actual Year Built', 'Lot Size']\n",
    "target_var = 'Assessed_value_log'"
   ]
  },
  {
   "cell_type": "code",
   "execution_count": 50,
   "metadata": {
    "ExecuteTime": {
     "end_time": "2021-09-17T12:19:41.011944Z",
     "start_time": "2021-09-17T12:19:28.558775Z"
    }
   },
   "outputs": [
    {
     "data": {
      "text/html": [
       "<div>\n",
       "<style scoped>\n",
       "    .dataframe tbody tr th:only-of-type {\n",
       "        vertical-align: middle;\n",
       "    }\n",
       "\n",
       "    .dataframe tbody tr th {\n",
       "        vertical-align: top;\n",
       "    }\n",
       "\n",
       "    .dataframe thead th {\n",
       "        text-align: right;\n",
       "    }\n",
       "</style>\n",
       "<table border=\"1\" class=\"dataframe\">\n",
       "  <thead>\n",
       "    <tr style=\"text-align: right;\">\n",
       "      <th></th>\n",
       "      <th>Feature</th>\n",
       "      <th>Correlation</th>\n",
       "      <th>p_value</th>\n",
       "      <th>Relationship</th>\n",
       "    </tr>\n",
       "  </thead>\n",
       "  <tbody>\n",
       "    <tr>\n",
       "      <th>0</th>\n",
       "      <td>Latitude</td>\n",
       "      <td>-0.140944</td>\n",
       "      <td>1.508615e-11</td>\n",
       "      <td>decreasing</td>\n",
       "    </tr>\n",
       "    <tr>\n",
       "      <th>1</th>\n",
       "      <td>Longitude</td>\n",
       "      <td>-0.164236</td>\n",
       "      <td>0.000000e+00</td>\n",
       "      <td>decreasing</td>\n",
       "    </tr>\n",
       "    <tr>\n",
       "      <th>2</th>\n",
       "      <td>Actual Year Built</td>\n",
       "      <td>-0.073389</td>\n",
       "      <td>2.355079e-01</td>\n",
       "      <td>no trend</td>\n",
       "    </tr>\n",
       "    <tr>\n",
       "      <th>3</th>\n",
       "      <td>Lot Size</td>\n",
       "      <td>0.403766</td>\n",
       "      <td>0.000000e+00</td>\n",
       "      <td>increasing</td>\n",
       "    </tr>\n",
       "  </tbody>\n",
       "</table>\n",
       "</div>"
      ],
      "text/plain": [
       "             Feature  Correlation       p_value Relationship\n",
       "0           Latitude    -0.140944  1.508615e-11   decreasing\n",
       "1          Longitude    -0.164236  0.000000e+00   decreasing\n",
       "2  Actual Year Built    -0.073389  2.355079e-01     no trend\n",
       "3           Lot Size     0.403766  0.000000e+00   increasing"
      ]
     },
     "execution_count": 50,
     "metadata": {},
     "output_type": "execute_result"
    }
   ],
   "source": [
    "res = {}\n",
    "corr_list = []\n",
    "p_value_list = []\n",
    "relationship_list = []\n",
    "\n",
    "for i, col in enumerate(num_cols):\n",
    "    if i < 3:\n",
    "        p, z, Tau, trend = mkTest(df, col, target_var, alpha=alpha)\n",
    "    else:\n",
    "        p, z, Tau, trend = mkSampleTest(df, col, target_var, alpha=alpha, sample_size=0.15, seed=seed)\n",
    "\n",
    "    corr_list.append(Tau)\n",
    "    p_value_list.append(p)\n",
    "    relationship_list.append(trend)\n",
    "\n",
    "res = {'Feature': num_cols, 'Correlation': corr_list, 'p_value': p_value_list, 'Relationship': relationship_list}\n",
    "pd.DataFrame(res)"
   ]
  },
  {
   "cell_type": "code",
   "execution_count": 51,
   "metadata": {
    "ExecuteTime": {
     "end_time": "2021-09-17T12:20:56.111779Z",
     "start_time": "2021-09-17T12:20:56.106784Z"
    }
   },
   "outputs": [],
   "source": [
    "output_tables[('housing', 'Mann_Kendall')] = res"
   ]
  },
  {
   "cell_type": "code",
   "execution_count": 52,
   "metadata": {
    "ExecuteTime": {
     "end_time": "2021-09-17T12:21:00.226689Z",
     "start_time": "2021-09-17T12:20:58.834763Z"
    }
   },
   "outputs": [],
   "source": [
    "xas = np.arange(0.1, 1.1, 0.1)\n",
    "p_vals = []\n",
    "z_stats = []\n",
    "Tau_corrs = []\n",
    "for x in xas:\n",
    "    p, z, Tau, _ = mkSampleTest(df, 'Latitude', target_var, alpha=alpha, sample_size=x, seed=seed)\n",
    "    p_vals.append(p)\n",
    "    z_stats.append(z)\n",
    "    Tau_corrs.append(Tau)\n"
   ]
  },
  {
   "cell_type": "code",
   "execution_count": 53,
   "metadata": {
    "ExecuteTime": {
     "end_time": "2021-09-17T12:21:02.516567Z",
     "start_time": "2021-09-17T12:21:02.401980Z"
    }
   },
   "outputs": [
    {
     "data": {
      "image/png": "[encoded data removed]",
      "text/plain": [
       "<Figure size 432x288 with 1 Axes>"
      ]
     },
     "metadata": {
      "needs_background": "light"
     },
     "output_type": "display_data"
    }
   ],
   "source": [
    "plt.plot(xas, p_vals, label='p-value');\n",
    "plt.plot(xas, z_stats, label='Z-score');\n",
    "# plt.plot(xas, Tau_corrs, label='Tau');\n",
    "plt.hlines(z_stats[-1], xmin=0, xmax=1.1, linestyles='-.')\n",
    "plt.legend();"
   ]
  },
  {
   "cell_type": "code",
   "execution_count": 54,
   "metadata": {
    "ExecuteTime": {
     "end_time": "2021-09-17T12:21:09.045374Z",
     "start_time": "2021-09-17T12:21:05.210067Z"
    }
   },
   "outputs": [],
   "source": [
    "xas = np.arange(0.1, 1.1, 0.1)\n",
    "p_vals = []\n",
    "z_stats = []\n",
    "Tau_corrs = []\n",
    "for x in xas:\n",
    "    p, z, Tau, _ = mkSampleTest(df, 'Longitude', target_var, alpha=alpha, sample_size=x, seed=seed)\n",
    "    p_vals.append(p)\n",
    "    z_stats.append(z)\n",
    "    Tau_corrs.append(Tau)\n"
   ]
  },
  {
   "cell_type": "code",
   "execution_count": 55,
   "metadata": {
    "ExecuteTime": {
     "end_time": "2021-09-17T12:21:14.619227Z",
     "start_time": "2021-09-17T12:21:14.506192Z"
    }
   },
   "outputs": [
    {
     "data": {
      "image/png": "[encoded data removed]",
      "text/plain": [
       "<Figure size 432x288 with 1 Axes>"
      ]
     },
     "metadata": {
      "needs_background": "light"
     },
     "output_type": "display_data"
    }
   ],
   "source": [
    "plt.plot(xas, p_vals, label='p-value');\n",
    "plt.plot(xas, z_stats, label='Z-score');\n",
    "# plt.plot(xas, Tau_corrs, label='Tau');\n",
    "plt.hlines(z_stats[-1], xmin=0, xmax=1.1, linestyles='-.')\n",
    "plt.legend();"
   ]
  },
  {
   "cell_type": "code",
   "execution_count": 56,
   "metadata": {
    "ExecuteTime": {
     "end_time": "2021-09-17T12:21:18.071001Z",
     "start_time": "2021-09-17T12:21:17.050781Z"
    }
   },
   "outputs": [],
   "source": [
    "xas = np.arange(0.1, 1.1, 0.1)\n",
    "p_vals = []\n",
    "z_stats = []\n",
    "Tau_corrs = []\n",
    "for x in xas:\n",
    "    p, z, Tau, _ = mkSampleTest(df, 'Actual Year Built', target_var, alpha=alpha, sample_size=x, seed=seed)\n",
    "    p_vals.append(p)\n",
    "    z_stats.append(z)\n",
    "    Tau_corrs.append(Tau)\n"
   ]
  },
  {
   "cell_type": "code",
   "execution_count": 57,
   "metadata": {
    "ExecuteTime": {
     "end_time": "2021-09-17T12:21:20.001044Z",
     "start_time": "2021-09-17T12:21:19.898021Z"
    }
   },
   "outputs": [
    {
     "data": {
      "image/png": "[encoded data removed]",
      "text/plain": [
       "<Figure size 432x288 with 1 Axes>"
      ]
     },
     "metadata": {
      "needs_background": "light"
     },
     "output_type": "display_data"
    }
   ],
   "source": [
    "plt.plot(xas, p_vals, label='p-value');\n",
    "plt.plot(xas, z_stats, label='Z-score');\n",
    "# plt.plot(xas, Tau_corrs, label='Tau');\n",
    "plt.hlines(z_stats[-1], xmin=0, xmax=1.1, linestyles='-.')\n",
    "plt.legend();"
   ]
  },
  {
   "cell_type": "markdown",
   "metadata": {},
   "source": [
    "### Save results"
   ]
  },
  {
   "cell_type": "code",
   "execution_count": 58,
   "metadata": {
    "ExecuteTime": {
     "end_time": "2021-09-17T12:21:27.736099Z",
     "start_time": "2021-09-17T12:21:27.722095Z"
    }
   },
   "outputs": [
    {
     "data": {
      "text/html": [
       "<div>\n",
       "<style scoped>\n",
       "    .dataframe tbody tr th:only-of-type {\n",
       "        vertical-align: middle;\n",
       "    }\n",
       "\n",
       "    .dataframe tbody tr th {\n",
       "        vertical-align: top;\n",
       "    }\n",
       "\n",
       "    .dataframe thead th {\n",
       "        text-align: right;\n",
       "    }\n",
       "</style>\n",
       "<table border=\"1\" class=\"dataframe\">\n",
       "  <thead>\n",
       "    <tr style=\"text-align: right;\">\n",
       "      <th></th>\n",
       "      <th>Dataset</th>\n",
       "      <th>Method</th>\n",
       "      <th>Feature</th>\n",
       "      <th>Correlation</th>\n",
       "      <th>p_value</th>\n",
       "      <th>Relationship</th>\n",
       "    </tr>\n",
       "  </thead>\n",
       "  <tbody>\n",
       "    <tr>\n",
       "      <th>0</th>\n",
       "      <td>heart</td>\n",
       "      <td>Spearman_rank</td>\n",
       "      <td>age</td>\n",
       "      <td>0.384</td>\n",
       "      <td>0.0131</td>\n",
       "      <td>p_value &gt; 0.05 or abs(corr) &lt; 0.5</td>\n",
       "    </tr>\n",
       "    <tr>\n",
       "      <th>1</th>\n",
       "      <td>heart</td>\n",
       "      <td>Spearman_rank</td>\n",
       "      <td>trestbps</td>\n",
       "      <td>0.188</td>\n",
       "      <td>0.191</td>\n",
       "      <td>p_value &gt; 0.05 or abs(corr) &lt; 0.5</td>\n",
       "    </tr>\n",
       "    <tr>\n",
       "      <th>2</th>\n",
       "      <td>heart</td>\n",
       "      <td>Spearman_rank</td>\n",
       "      <td>chol</td>\n",
       "      <td>0.143</td>\n",
       "      <td>0.166</td>\n",
       "      <td>p_value &gt; 0.05 or abs(corr) &lt; 0.5</td>\n",
       "    </tr>\n",
       "    <tr>\n",
       "      <th>3</th>\n",
       "      <td>heart</td>\n",
       "      <td>Spearman_rank</td>\n",
       "      <td>thalach</td>\n",
       "      <td>-0.588</td>\n",
       "      <td>9.01e-10</td>\n",
       "      <td>Decreasing</td>\n",
       "    </tr>\n",
       "    <tr>\n",
       "      <th>4</th>\n",
       "      <td>heart</td>\n",
       "      <td>Spearman_rank</td>\n",
       "      <td>oldpeak</td>\n",
       "      <td>0.635</td>\n",
       "      <td>1.08e-05</td>\n",
       "      <td>Increasing</td>\n",
       "    </tr>\n",
       "    <tr>\n",
       "      <th>5</th>\n",
       "      <td>heart</td>\n",
       "      <td>Mann_Kendall</td>\n",
       "      <td>age</td>\n",
       "      <td>0.297561</td>\n",
       "      <td>0.005985</td>\n",
       "      <td>increasing</td>\n",
       "    </tr>\n",
       "    <tr>\n",
       "      <th>6</th>\n",
       "      <td>heart</td>\n",
       "      <td>Mann_Kendall</td>\n",
       "      <td>trestbps</td>\n",
       "      <td>0.14449</td>\n",
       "      <td>0.130556</td>\n",
       "      <td>no trend</td>\n",
       "    </tr>\n",
       "    <tr>\n",
       "      <th>7</th>\n",
       "      <td>heart</td>\n",
       "      <td>Mann_Kendall</td>\n",
       "      <td>chol</td>\n",
       "      <td>0.071541</td>\n",
       "      <td>0.144784</td>\n",
       "      <td>no trend</td>\n",
       "    </tr>\n",
       "    <tr>\n",
       "      <th>8</th>\n",
       "      <td>heart</td>\n",
       "      <td>Mann_Kendall</td>\n",
       "      <td>thalach</td>\n",
       "      <td>-0.422222</td>\n",
       "      <td>0.0</td>\n",
       "      <td>decreasing</td>\n",
       "    </tr>\n",
       "    <tr>\n",
       "      <th>9</th>\n",
       "      <td>heart</td>\n",
       "      <td>Mann_Kendall</td>\n",
       "      <td>oldpeak</td>\n",
       "      <td>0.457692</td>\n",
       "      <td>0.000027</td>\n",
       "      <td>increasing</td>\n",
       "    </tr>\n",
       "    <tr>\n",
       "      <th>10</th>\n",
       "      <td>adult</td>\n",
       "      <td>Spearman_rank</td>\n",
       "      <td>Age</td>\n",
       "      <td>-0.002</td>\n",
       "      <td>0.987</td>\n",
       "      <td>p_value &gt; 0.05 or abs(corr) &lt; 0.5</td>\n",
       "    </tr>\n",
       "    <tr>\n",
       "      <th>11</th>\n",
       "      <td>adult</td>\n",
       "      <td>Spearman_rank</td>\n",
       "      <td>fnlwgt</td>\n",
       "      <td>-0.121</td>\n",
       "      <td>0.229</td>\n",
       "      <td>p_value &gt; 0.05 or abs(corr) &lt; 0.5</td>\n",
       "    </tr>\n",
       "    <tr>\n",
       "      <th>12</th>\n",
       "      <td>adult</td>\n",
       "      <td>Spearman_rank</td>\n",
       "      <td>EducationNum</td>\n",
       "      <td>0.976</td>\n",
       "      <td>1.01e-10</td>\n",
       "      <td>Increasing</td>\n",
       "    </tr>\n",
       "    <tr>\n",
       "      <th>13</th>\n",
       "      <td>adult</td>\n",
       "      <td>Spearman_rank</td>\n",
       "      <td>CapitalGain</td>\n",
       "      <td>0.622</td>\n",
       "      <td>4.46e-14</td>\n",
       "      <td>Increasing</td>\n",
       "    </tr>\n",
       "    <tr>\n",
       "      <th>14</th>\n",
       "      <td>adult</td>\n",
       "      <td>Spearman_rank</td>\n",
       "      <td>CapitalLoss</td>\n",
       "      <td>0.326</td>\n",
       "      <td>0.00151</td>\n",
       "      <td>p_value &gt; 0.05 or abs(corr) &lt; 0.5</td>\n",
       "    </tr>\n",
       "    <tr>\n",
       "      <th>15</th>\n",
       "      <td>adult</td>\n",
       "      <td>Spearman_rank</td>\n",
       "      <td>HoursPerWeek</td>\n",
       "      <td>0.375</td>\n",
       "      <td>0.000192</td>\n",
       "      <td>p_value &gt; 0.05 or abs(corr) &lt; 0.5</td>\n",
       "    </tr>\n",
       "    <tr>\n",
       "      <th>16</th>\n",
       "      <td>adult</td>\n",
       "      <td>Mann_Kendall</td>\n",
       "      <td>Age</td>\n",
       "      <td>-0.001903</td>\n",
       "      <td>0.98479</td>\n",
       "      <td>no trend</td>\n",
       "    </tr>\n",
       "    <tr>\n",
       "      <th>17</th>\n",
       "      <td>adult</td>\n",
       "      <td>Mann_Kendall</td>\n",
       "      <td>fnlwgt</td>\n",
       "      <td>-0.010376</td>\n",
       "      <td>0.003541</td>\n",
       "      <td>decreasing</td>\n",
       "    </tr>\n",
       "    <tr>\n",
       "      <th>18</th>\n",
       "      <td>adult</td>\n",
       "      <td>Mann_Kendall</td>\n",
       "      <td>EducationNum</td>\n",
       "      <td>0.916667</td>\n",
       "      <td>0.000001</td>\n",
       "      <td>increasing</td>\n",
       "    </tr>\n",
       "    <tr>\n",
       "      <th>19</th>\n",
       "      <td>adult</td>\n",
       "      <td>Mann_Kendall</td>\n",
       "      <td>CapitalGain</td>\n",
       "      <td>0.325737</td>\n",
       "      <td>0.0</td>\n",
       "      <td>increasing</td>\n",
       "    </tr>\n",
       "    <tr>\n",
       "      <th>20</th>\n",
       "      <td>adult</td>\n",
       "      <td>Mann_Kendall</td>\n",
       "      <td>CapitalLoss</td>\n",
       "      <td>0.169135</td>\n",
       "      <td>0.002444</td>\n",
       "      <td>increasing</td>\n",
       "    </tr>\n",
       "    <tr>\n",
       "      <th>21</th>\n",
       "      <td>adult</td>\n",
       "      <td>Mann_Kendall</td>\n",
       "      <td>HoursPerWeek</td>\n",
       "      <td>0.316861</td>\n",
       "      <td>0.000006</td>\n",
       "      <td>increasing</td>\n",
       "    </tr>\n",
       "    <tr>\n",
       "      <th>22</th>\n",
       "      <td>housing</td>\n",
       "      <td>Spearman_rank</td>\n",
       "      <td>Latitude</td>\n",
       "      <td>-0.304</td>\n",
       "      <td>0.00213</td>\n",
       "      <td>p_value &gt; 0.05 or abs(corr) &lt; 0.5</td>\n",
       "    </tr>\n",
       "    <tr>\n",
       "      <th>23</th>\n",
       "      <td>housing</td>\n",
       "      <td>Spearman_rank</td>\n",
       "      <td>Longitude</td>\n",
       "      <td>-0.209</td>\n",
       "      <td>0.0369</td>\n",
       "      <td>p_value &gt; 0.05 or abs(corr) &lt; 0.5</td>\n",
       "    </tr>\n",
       "    <tr>\n",
       "      <th>24</th>\n",
       "      <td>housing</td>\n",
       "      <td>Spearman_rank</td>\n",
       "      <td>Actual Year Built</td>\n",
       "      <td>-0.109</td>\n",
       "      <td>0.237</td>\n",
       "      <td>p_value &gt; 0.05 or abs(corr) &lt; 0.5</td>\n",
       "    </tr>\n",
       "    <tr>\n",
       "      <th>25</th>\n",
       "      <td>housing</td>\n",
       "      <td>Spearman_rank</td>\n",
       "      <td>Lot Size</td>\n",
       "      <td>0.917</td>\n",
       "      <td>7.41e-41</td>\n",
       "      <td>Increasing</td>\n",
       "    </tr>\n",
       "    <tr>\n",
       "      <th>26</th>\n",
       "      <td>housing</td>\n",
       "      <td>Mann_Kendall</td>\n",
       "      <td>Latitude</td>\n",
       "      <td>-0.140944</td>\n",
       "      <td>0.0</td>\n",
       "      <td>decreasing</td>\n",
       "    </tr>\n",
       "    <tr>\n",
       "      <th>27</th>\n",
       "      <td>housing</td>\n",
       "      <td>Mann_Kendall</td>\n",
       "      <td>Longitude</td>\n",
       "      <td>-0.164236</td>\n",
       "      <td>0.0</td>\n",
       "      <td>decreasing</td>\n",
       "    </tr>\n",
       "    <tr>\n",
       "      <th>28</th>\n",
       "      <td>housing</td>\n",
       "      <td>Mann_Kendall</td>\n",
       "      <td>Actual Year Built</td>\n",
       "      <td>-0.073389</td>\n",
       "      <td>0.235508</td>\n",
       "      <td>no trend</td>\n",
       "    </tr>\n",
       "    <tr>\n",
       "      <th>29</th>\n",
       "      <td>housing</td>\n",
       "      <td>Mann_Kendall</td>\n",
       "      <td>Lot Size</td>\n",
       "      <td>0.403766</td>\n",
       "      <td>0.0</td>\n",
       "      <td>increasing</td>\n",
       "    </tr>\n",
       "  </tbody>\n",
       "</table>\n",
       "</div>"
      ],
      "text/plain": [
       "    Dataset         Method            Feature Correlation   p_value  \\\n",
       "0     heart  Spearman_rank                age       0.384    0.0131   \n",
       "1     heart  Spearman_rank           trestbps       0.188     0.191   \n",
       "2     heart  Spearman_rank               chol       0.143     0.166   \n",
       "3     heart  Spearman_rank            thalach      -0.588  9.01e-10   \n",
       "4     heart  Spearman_rank            oldpeak       0.635  1.08e-05   \n",
       "5     heart   Mann_Kendall                age    0.297561  0.005985   \n",
       "6     heart   Mann_Kendall           trestbps     0.14449  0.130556   \n",
       "7     heart   Mann_Kendall               chol    0.071541  0.144784   \n",
       "8     heart   Mann_Kendall            thalach   -0.422222       0.0   \n",
       "9     heart   Mann_Kendall            oldpeak    0.457692  0.000027   \n",
       "10    adult  Spearman_rank                Age      -0.002     0.987   \n",
       "11    adult  Spearman_rank             fnlwgt      -0.121     0.229   \n",
       "12    adult  Spearman_rank       EducationNum       0.976  1.01e-10   \n",
       "13    adult  Spearman_rank        CapitalGain       0.622  4.46e-14   \n",
       "14    adult  Spearman_rank        CapitalLoss       0.326   0.00151   \n",
       "15    adult  Spearman_rank       HoursPerWeek       0.375  0.000192   \n",
       "16    adult   Mann_Kendall                Age   -0.001903   0.98479   \n",
       "17    adult   Mann_Kendall             fnlwgt   -0.010376  0.003541   \n",
       "18    adult   Mann_Kendall       EducationNum    0.916667  0.000001   \n",
       "19    adult   Mann_Kendall        CapitalGain    0.325737       0.0   \n",
       "20    adult   Mann_Kendall        CapitalLoss    0.169135  0.002444   \n",
       "21    adult   Mann_Kendall       HoursPerWeek    0.316861  0.000006   \n",
       "22  housing  Spearman_rank           Latitude      -0.304   0.00213   \n",
       "23  housing  Spearman_rank          Longitude      -0.209    0.0369   \n",
       "24  housing  Spearman_rank  Actual Year Built      -0.109     0.237   \n",
       "25  housing  Spearman_rank           Lot Size       0.917  7.41e-41   \n",
       "26  housing   Mann_Kendall           Latitude   -0.140944       0.0   \n",
       "27  housing   Mann_Kendall          Longitude   -0.164236       0.0   \n",
       "28  housing   Mann_Kendall  Actual Year Built   -0.073389  0.235508   \n",
       "29  housing   Mann_Kendall           Lot Size    0.403766       0.0   \n",
       "\n",
       "                         Relationship  \n",
       "0   p_value > 0.05 or abs(corr) < 0.5  \n",
       "1   p_value > 0.05 or abs(corr) < 0.5  \n",
       "2   p_value > 0.05 or abs(corr) < 0.5  \n",
       "3                          Decreasing  \n",
       "4                          Increasing  \n",
       "5                          increasing  \n",
       "6                            no trend  \n",
       "7                            no trend  \n",
       "8                          decreasing  \n",
       "9                          increasing  \n",
       "10  p_value > 0.05 or abs(corr) < 0.5  \n",
       "11  p_value > 0.05 or abs(corr) < 0.5  \n",
       "12                         Increasing  \n",
       "13                         Increasing  \n",
       "14  p_value > 0.05 or abs(corr) < 0.5  \n",
       "15  p_value > 0.05 or abs(corr) < 0.5  \n",
       "16                           no trend  \n",
       "17                         decreasing  \n",
       "18                         increasing  \n",
       "19                         increasing  \n",
       "20                         increasing  \n",
       "21                         increasing  \n",
       "22  p_value > 0.05 or abs(corr) < 0.5  \n",
       "23  p_value > 0.05 or abs(corr) < 0.5  \n",
       "24  p_value > 0.05 or abs(corr) < 0.5  \n",
       "25                         Increasing  \n",
       "26                         decreasing  \n",
       "27                         decreasing  \n",
       "28                           no trend  \n",
       "29                         increasing  "
      ]
     },
     "execution_count": 58,
     "metadata": {},
     "output_type": "execute_result"
    }
   ],
   "source": [
    "d = {'Dataset': [], 'Method': [], 'Feature': [], 'Correlation': [], 'p_value': [], 'Relationship': []}\n",
    "for key, val in output_tables.items():\n",
    "    tmp = list(key)\n",
    "    tmp_n = len(val['Feature'])\n",
    "\n",
    "    d['Dataset'].extend([tmp[0]] * tmp_n)\n",
    "    d['Method'].extend([tmp[1]] * tmp_n)\n",
    "    d['Feature'].extend(val['Feature'])\n",
    "    d['Correlation'].extend(val['Correlation'])\n",
    "    d['p_value'].extend(val['p_value'])\n",
    "    d['Relationship'].extend(val['Relationship'])\n",
    "\n",
    "output_df = pd.DataFrame(d)\n",
    "output_df"
   ]
  },
  {
   "cell_type": "code",
   "execution_count": 59,
   "metadata": {
    "ExecuteTime": {
     "end_time": "2021-09-17T12:21:44.336770Z",
     "start_time": "2021-09-17T12:21:44.329777Z"
    }
   },
   "outputs": [],
   "source": [
    "output_df.to_csv('explore_monotonicity.csv', index=False)"
   ]
  },
  {
   "cell_type": "code",
   "execution_count": null,
   "metadata": {},
   "outputs": [],
   "source": []
  }
 ],
 "metadata": {
  "kernelspec": {
   "display_name": "Python 3",
   "language": "python",
   "name": "python3"
  },
  "language_info": {
   "codemirror_mode": {
    "name": "ipython",
    "version": 3
   },
   "file_extension": ".py",
   "mimetype": "text/x-python",
   "name": "python",
   "nbconvert_exporter": "python",
   "pygments_lexer": "ipython3",
   "version": "3.8.5"
  },
  "varInspector": {
   "cols": {
    "lenName": 16,
    "lenType": 16,
    "lenVar": 40
   },
   "kernels_config": {
    "python": {
     "delete_cmd_postfix": "",
     "delete_cmd_prefix": "del ",
     "library": "var_list.py",
     "varRefreshCmd": "print(var_dic_list())"
    },
    "r": {
     "delete_cmd_postfix": ") ",
     "delete_cmd_prefix": "rm(",
     "library": "var_list.r",
     "varRefreshCmd": "cat(var_dic_list()) "
    }
   },
   "types_to_exclude": [
    "module",
    "function",
    "builtin_function_or_method",
    "instance",
    "_Feature"
   ],
   "window_display": false
  }
 },
 "nbformat": 4,
 "nbformat_minor": 2
}
